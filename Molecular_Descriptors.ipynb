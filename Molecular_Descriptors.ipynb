{
 "cells": [
  {
   "cell_type": "markdown",
   "id": "85804038-8baa-4c0c-ab77-fadae214c52e",
   "metadata": {},
   "source": [
    "# Molecular Descriptors"
   ]
  },
  {
   "cell_type": "code",
   "execution_count": 25,
   "id": "3d99e380-f695-41ac-be08-5dac6590d6cb",
   "metadata": {},
   "outputs": [],
   "source": [
    "from rdkit import Chem\n",
    "from rdkit.Chem import Descriptors, Draw\n",
    "from rdkit.Chem.AllChem import GetMorganFingerprintAsBitVect\n",
    "import pandas as pd"
   ]
  },
  {
   "cell_type": "markdown",
   "id": "0c41fa7a-7c66-4220-91fe-81345ce32e90",
   "metadata": {},
   "source": [
    "## Molecures under study\n",
    "We will use SMILES in this example"
   ]
  },
  {
   "cell_type": "code",
   "execution_count": 26,
   "id": "2b291463-936d-4607-9406-d0c2f40051d3",
   "metadata": {},
   "outputs": [],
   "source": [
    "# Define the SMILES of example molecules\n",
    "smiles_list = [\n",
    "    \"CCO\",          # Ethanol\n",
    "    \"CC(=O)OC1=CC=CC=C1C(=O)O\",  # Aspirin\n",
    "    \"C1=CC=CC=C1\",  # Benzene\n",
    "    \"CCN(CC)CC\",    # Triethylamine\n",
    "]\n",
    "\n"
   ]
  },
  {
   "cell_type": "code",
   "execution_count": 27,
   "id": "82272b5f-2e88-4f55-9690-c55597f39007",
   "metadata": {},
   "outputs": [
    {
     "name": "stdout",
     "output_type": "stream",
     "text": [
      "Molecular descriptors:\n",
      "     MolWt    LogP  NumHDonors  NumHAcceptors   TPSA                    SMILES\n",
      "0   46.069 -0.0014           1              1  20.23                       CCO\n",
      "1  180.159  1.3101           1              3  63.60  CC(=O)OC1=CC=CC=C1C(=O)O\n",
      "2   78.114  1.6866           0              0   0.00               C1=CC=CC=C1\n",
      "3  101.193  1.3481           0              1   3.24                 CCN(CC)CC\n"
     ]
    }
   ],
   "source": [
    "# Defining the descriptors\n",
    "def calculate_descriptors(mol):\n",
    "    return {\n",
    "        \"MolWt\": Descriptors.MolWt(mol),\n",
    "        \"LogP\": Descriptors.MolLogP(mol),\n",
    "        \"NumHDonors\": Descriptors.NumHDonors(mol),\n",
    "        \"NumHAcceptors\": Descriptors.NumHAcceptors(mol),\n",
    "        \"TPSA\": Descriptors.TPSA(mol),\n",
    "    }\n",
    "\n",
    "# Molecular Descriptors calculation\n",
    "data = []\n",
    "fingerprints = []\n",
    "for smi in smiles_list:\n",
    "    mol = Chem.MolFromSmiles(smi)\n",
    "    if mol:\n",
    "        desc = calculate_descriptors(mol)\n",
    "        desc[\"SMILES\"] = smi\n",
    "        data.append(desc)\n",
    "        \n",
    "# Convert the output to a DataFrame\n",
    "df = pd.DataFrame(data)\n",
    "print(\"Molecular descriptors:\")\n",
    "print(df)"
   ]
  },
  {
   "cell_type": "code",
   "execution_count": 28,
   "id": "b17e8790-70ae-4373-946a-565703758181",
   "metadata": {},
   "outputs": [
    {
     "name": "stdout",
     "output_type": "stream",
     "text": [
      "00000000000000000000000000000000000000000000000000000000000000000000000000000000001000000000000000000000000001000010000000000000000000000001000000000000010101001000100\n"
     ]
    }
   ],
   "source": [
    "from rdkit.Chem import MACCSkeys\n",
    "ethanol = Chem.MolFromSmiles(smiles_list[0])\n",
    "maccs_fp = MACCSkeys.GenMACCSKeys(ethanol)\n",
    "print(maccs_fp.ToBitString())"
   ]
  },
  {
   "cell_type": "code",
   "execution_count": null,
   "id": "3e752690-3ee3-4fe6-af36-58b0da94ca4e",
   "metadata": {},
   "outputs": [],
   "source": []
  }
 ],
 "metadata": {
  "kernelspec": {
   "display_name": "Python 3 (ipykernel)",
   "language": "python",
   "name": "python3"
  },
  "language_info": {
   "codemirror_mode": {
    "name": "ipython",
    "version": 3
   },
   "file_extension": ".py",
   "mimetype": "text/x-python",
   "name": "python",
   "nbconvert_exporter": "python",
   "pygments_lexer": "ipython3",
   "version": "3.12.0"
  }
 },
 "nbformat": 4,
 "nbformat_minor": 5
}
