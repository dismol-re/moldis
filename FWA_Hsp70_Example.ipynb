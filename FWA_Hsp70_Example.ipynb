{
 "cells": [
  {
   "cell_type": "markdown",
   "id": "abe6c971",
   "metadata": {},
   "source": [
    "# Traditional Approach: Free Wilson Analysis\n",
    "## Identification of Heat Shock Protein 70 inhibitors\n",
    "> Data inpired by _Kang et al., Journal of Medicinal Chemistry, 2014, 57, 1188-1207_ and biological activity values have been adapted appropriately. \n",
    "\n",
    "<hr>\n",
    "\n",
    "Our research group in interested in the design of Hsp70 inhibitors for cancer treatment. Particularly, we are interested in designing compounds with potential inhibitory activity against Hsp70, based on the following scaffold. \n",
    "\n",
    "<img title=\"a title\" alt=\"Alt text\" src=\"FWA_scaffold.png\" width=\"300\">\n",
    "\n",
    "Fortunately, some information regarding the activity of some compounds of this family has already been reported in literature:\n",
    "<br>\n",
    "\n",
    "| R<sub>1</sub> | R<sub>2</sub> | R<sub>3</sub> | IC<sub>50</sub> (microM) |\n",
    "| :----: |  :----: |  :----: |  :----: |\n",
    "| NH<sub>2</sub> | OCH<sub>3</sub> |methylpiperazine| 10.90 |\n",
    "| NH<sub>2</sub> | OCH<sub>3</sub> | morpholine|22.5|\n",
    "| NH<sub>2</sub> | OCH<sub>3</sub> |piperidine|27.1|\n",
    "| NH<sub>2</sub> | OCH<sub>2</sub>CH<sub>3</sub> |methylpiperazine |10.89|\n",
    "| NH<sub>2</sub> | OCH<sub>2</sub>CH<sub>3</sub> |morpholine|12.2|\n",
    "| NH<sub>2</sub> | OCH<sub>2</sub>CH<sub>3</sub> |piperidine|14.5|\n",
    "| H  | OCH<sub>3</sub> |methylpiperazine|11.25|\n",
    "| H | OCH<sub>3</sub> |morpholine|12.0|\n",
    "| H | OCH<sub>3</sub> |piperidine|13.15|\n",
    "<hr>\n",
    "<br>\n",
    "<div class=\"alert alert-block alert-info\">\n",
    "<b> Objective of the exercise: </b>\n",
    "Apply the Free Wilson Analysis to predict the activity for the following compounds:\n",
    "<br> <br>\n",
    "<table>\n",
    "<thead>\n",
    "<tr><th>R<sub>1</sub></th><th>R<sub>2</sub></th><th>R<sub>3</sub></th></tr>\n",
    "</thead>\n",
    "<tbody>\n",
    "<tr><td>H</td><td>OCH<sub>2</sub>CH<sub>3</sub></td><td>methylpiperazine</td></tr>\n",
    "<tr><td>H</td><td>OCH<sub>2</sub>CH<sub>3</sub></td><td>morpholine</td></tr>\n",
    "</tbody>\n",
    "</table>\n",
    "</div>\n",
    "\n",
    "\n"
   ]
  },
  {
   "cell_type": "markdown",
   "id": "38518268",
   "metadata": {},
   "source": [
    "### Matrix codification\n",
    "\n",
    "According to the general linear model:\n",
    "$$ IC_{50}=w_{1}·R_{1}+w_{2}·R_{2}+w_{3}·R_{3}+w_{4} $$\n",
    "We can codify the presence of one substituent or another using numerical identifiers:\n",
    "> **R<sub>1</sub>**: H (0), NH<sub>2</sub> (1) <br>\n",
    "> **R<sub>2</sub>**: OCH<sub>3</sub> (0); OCH<sub>2</sub>CH<sub>3</sub> (1) <br>\n",
    "> **R<sub>3</sub>**: methylpiperazine (0); morpholine (1); piperidine (2) <br>\n",
    "\n",
    "Obtaining as a result the matrix representation of the system:\n",
    " $$ \\begin{pmatrix} 1&0&0&1 \\\\1&0&1&1\\\\ 1&0&2&1\\\\ 1&1&0&1\\\\1&1&1&1\\\\1&1&2&1\\\\0&0&0&1\\\\0&0&1&1\\\\0&0&2&1 \\end{pmatrix} · \\begin{pmatrix} w_{1}\\\\w_{2}\\\\w_{3}\\\\w_{4} \\end{pmatrix} = \\begin{pmatrix} 10.9\\\\22.5\\\\27.1\\\\10.89\\\\12.2\\\\14.5\\\\11.25\\\\12.0\\\\13.15 \\end{pmatrix} $$"
   ]
  },
  {
   "cell_type": "code",
   "execution_count": null,
   "id": "fc8766bc",
   "metadata": {},
   "outputs": [],
   "source": [
    "# Matrix representation of equation systems\n",
    "import numpy as np\n",
    "import matplotlib.pyplot as plt\n",
    "\n",
    "A=np.array([[1,0,0,1],[1,0,1,1],[1,0,2,1],[1,1,0,1],[1,1,1,1],[1,1,2,1],[0,0,0,1],[0,0,1,1],[0,0,2,1]])\n",
    "b=np.array([10.9, 22.5, 27.1, 10.89, 12.2, 14.5, 11.25, 12.0, 13.15])"
   ]
  },
  {
   "cell_type": "markdown",
   "id": "67bebf15",
   "metadata": {},
   "source": [
    "### Solving the system \n",
    "\n",
    "We will use the Partial Least Squares to solve the inconsistent system of equations\n",
    "\n",
    "$$ \\mathbb{A}·x=b $$\n",
    "$$ \\mathbb{A}^{T}·\\mathbb{A}·x=\\mathbb{A}^{T}·b $$\n",
    "$$ (\\mathbb{A}^{T}·\\mathbb{A})^{-1} · (\\mathbb{A}^{T}·\\mathbb{A}) ·x = (\\mathbb{A}^{T}·\\mathbb{A})^{-1} ·\\mathbb{A}^{T}·b $$\n",
    "$$ x=  (\\mathbb{A}^{T}·\\mathbb{A})^{-1} ·\\mathbb{A}^{T}·b  $$\n"
   ]
  },
  {
   "cell_type": "code",
   "execution_count": null,
   "id": "e318f63b",
   "metadata": {},
   "outputs": [],
   "source": [
    "#Step-by-step PLS solution\n",
    "AtA=np.dot(A.T,A)\n",
    "AtA_inv=np.linalg.inv(AtA)\n",
    "Atb=np.dot(A.T,b)\n",
    "x=np.dot(AtA_inv,Atb)    \n",
    "print(x)"
   ]
  },
  {
   "cell_type": "code",
   "execution_count": null,
   "id": "c77af067",
   "metadata": {},
   "outputs": [],
   "source": [
    "# plot the predicted vs real values\n",
    "b_pred=np.dot(A,x)\n",
    "plt.scatter(b, b_pred)\n",
    "plt.xlabel('Real values')\n",
    "plt.ylabel('Predicted values')\n",
    "plt.title('Predicted vs Real values')\n",
    "plt.plot([min(b), max(b)], [min(b), max(b)], color='red', linestyle='--')\n",
    "plt.show()\n"
   ]
  },
  {
   "cell_type": "markdown",
   "id": "b7a34d8d",
   "metadata": {},
   "source": [
    "### Statistical Analysis\n",
    "\n",
    "When evaluating the performance of a regression model, several statistical metrics are commonly used to assess how well the model fits the data. Two of the most important are **R²** (coefficient of determination) and **RMSE** (Root Mean Squared Error).\n",
    "\n",
    "#### Coefficient of Determination (R²)\n",
    "**R²** measures the proportion of the variance in the dependent variable that is predictable from the independent variables. Values go from 0 (the model does not explain the variability of the data) to 1 (perfect fit)\n",
    "\n",
    "#### Root Mean Squared Error (RMSE)\n",
    "**RMSE** quantifies the average magnitude of the error between predicted and actual values.\n",
    "$$ RMSE = \\sqrt{ \\frac{1}{n} \\sum_{i=1}^{n} (y_i - \\hat{y}_i)^2 } $$\n",
    "Lower RMSE indicates better fit. RMSE is in the same units as the dependent variable, making it easy to interpret.\n",
    "\n",
    "These metrics together provide a comprehensive view of model performance: R² tells you how well the model explains the data, while RMSE tells you how accurate the predictions are.\n"
   ]
  },
  {
   "cell_type": "code",
   "execution_count": null,
   "id": "84ffc413",
   "metadata": {},
   "outputs": [],
   "source": [
    "#RMSE\n",
    "rmse = np.sqrt(np.mean((b - b_pred) ** 2))\n",
    "print(\"RMSE:\", rmse)\n",
    "#R2\n",
    "ss_res = np.sum((b - b_pred) ** 2)\n",
    "ss_tot = np.sum((b - np.mean(b)) ** 2)\n",
    "r2 = 1 - (ss_res / ss_tot)\n",
    "print(\"R2:\", r2)"
   ]
  },
  {
   "cell_type": "code",
   "execution_count": null,
   "id": "0f68ea2e",
   "metadata": {},
   "outputs": [],
   "source": [
    "#Apply the model to new compounds\n",
    "A_new=np.array([[0,1,0,1],[0,1,1,1]])\n",
    "b_new_pred=np.dot(A_new,x)\n",
    "print(\"Predicted activities for new compounds:\", b_new_pred)\n"
   ]
  },
  {
   "cell_type": "markdown",
   "id": "617e4f99",
   "metadata": {},
   "source": [
    "### Introduction to Artificial Neural Networks\n",
    "\n",
    "Artificial Neural Networks (ANNs) are computational models inspired by the structure and function of biological neural networks. \n",
    "They consist of interconnected layers of nodes (neurons), where each node processes input data and passes the result to the next layer. \n",
    "ANNs are particularly powerful for modeling complex, non-linear relationships.\n",
    "\n",
    "ANN  and PLS regression are both powerful tools for modeling  relationships between variables, but they differ significantly in approach and application. ANNs are suitable for high-dimensional and non-linear problems. In contrast, PLS is a linear method offering interpretability.\n",
    "\n",
    "Now we will create a very simple example to illustrate the potential of Artificial Neural Networks (ANNs), even though the results will not be statistically significant because we will apply the model to a very small dataset. The goal is to demonstrate how an ANN can approximate non-linear relationships, highlighting its flexibility compared to traditional linear methods."
   ]
  },
  {
   "cell_type": "code",
   "execution_count": null,
   "id": "3812e89b",
   "metadata": {},
   "outputs": [],
   "source": [
    "#Solving the system using non-linear algorighm: artificial neural networks with two hidden layers\n",
    "from sklearn.neural_network import MLPRegressor\n",
    "mlp = MLPRegressor(hidden_layer_sizes=(5, 5), max_iter=100000, random_state=142)\n",
    "mlp.fit(A, b)\n",
    "b_mlp_pred = mlp.predict(A)\n",
    "# plot the predicted vs real values\n",
    "plt.scatter(b, b_mlp_pred)\n",
    "plt.xlabel('Real values')\n",
    "plt.ylabel('Predicted values')\n",
    "plt.title('Predicted vs Real values (MLP)')\n",
    "plt.plot([min(b), max(b)], [min(b), max(b)], color='red', linestyle='--')\n",
    "plt.show()\n",
    "#RMSE\n",
    "rmse_mlp = np.sqrt(np.mean((b - b_mlp_pred) ** 2))\n",
    "print(\"RMSE (MLP):\", rmse_mlp)\n",
    "#R2\n",
    "ss_res_mlp = np.sum((b - b_mlp_pred) ** 2)\n",
    "ss_tot_mlp = np.sum((b - np.mean(b)) ** 2)\n",
    "r2_mlp = 1 - (ss_res_mlp / ss_tot_mlp)\n",
    "print(\"R2 (MLP):\", r2_mlp)\n",
    "#Predict new compounds\n",
    "b_new_mlp_pred = mlp.predict(A_new)\n",
    "print(\"Predicted activities for new compounds (MLP):\", b_new_mlp_pred)\n"
   ]
  },
  {
   "cell_type": "code",
   "execution_count": null,
   "id": "34dcc02b",
   "metadata": {},
   "outputs": [],
   "source": [
    "#extract number of neurons in each layer\n",
    "print(\"Number of neurons in each layer:\", mlp.hidden_layer_sizes)\n",
    "#draw a diagram of the neurons and their connections\n",
    "from sklearn import tree\n",
    "import matplotlib.pyplot as plt\n",
    "import numpy as np\n",
    "import matplotlib.patches as mpatches\n",
    "def draw_neural_net(ax, left, right, bottom, top, layer_sizes):\n",
    "    '''\n",
    "    Draw a neural network cartoon using matplotilb.\n",
    "    \n",
    "    :param ax: matplotlib.axes.AxesSubplot, the axes on which to plot the cartoon (get e.g. by plt.gca())\n",
    "    :param left: float, the center of the leftmost node(s) will be placed here\n",
    "    :param right: float, the center of the rightmost node(s) will be placed here\n",
    "    :param bottom: float, the center of the bottommost node(s) will be placed here\n",
    "    :param top: float, the center of the topmost node(s) will be placed here\n",
    "    :param layer_sizes: list of int, list containing the number of nodes in each layer\n",
    "    '''\n",
    "    v_spacing = (top - bottom)/float(max(layer_sizes))\n",
    "    h_spacing = (right - left)/float(len(layer_sizes) - 1)\n",
    "    # Nodes\n",
    "    for n, layer_size in enumerate(layer_sizes):\n",
    "        layer_top = v_spacing*(layer_size - 1)/2. + (top + bottom)/2.\n",
    "        for m in range(layer_size):\n",
    "            circle = mpatches.Circle((n*h_spacing + left, layer_top - m*v_spacing), v_spacing/4.,\n",
    "                                     ec='k', zorder=4)\n",
    "            ax.add_patch(circle)\n",
    "            # Edges\n",
    "    for n, (layer_size_a, layer_size_b) in enumerate(zip(layer_sizes[:-1], layer_sizes[1:])):\n",
    "        layer_top_a = v_spacing*(layer_size_a - 1)/2. + (top + bottom)/2.\n",
    "        layer_top_b = v_spacing*(layer_size_b - 1)/2. + (top + bottom)/2.\n",
    "        for m in range(layer_size_a):\n",
    "            for o in range(layer_size_b):\n",
    "                line = plt.Line2D([n*h_spacing + left, (n + 1)*h_spacing + left],\n",
    "                                  [layer_top_a - m*v_spacing, layer_top_b - o*v_spacing], c='k')\n",
    "                ax.add_line(line)\n",
    "fig = plt.figure(figsize=(8, 8))\n",
    "ax = fig.gca()\n",
    "ax.axis('off')\n",
    "draw_neural_net(ax, .1, .9, .1, .9, [A.shape[1]] + list(mlp.hidden_layer_sizes) + [1])\n",
    "plt.title('Neural Network Architecture')\n",
    "plt.show()"
   ]
  }
 ],
 "metadata": {
  "kernelspec": {
   "display_name": "mdanalysis",
   "language": "python",
   "name": "python3"
  },
  "language_info": {
   "codemirror_mode": {
    "name": "ipython",
    "version": 3
   },
   "file_extension": ".py",
   "mimetype": "text/x-python",
   "name": "python",
   "nbconvert_exporter": "python",
   "pygments_lexer": "ipython3",
   "version": "3.12.0"
  }
 },
 "nbformat": 4,
 "nbformat_minor": 5
}
